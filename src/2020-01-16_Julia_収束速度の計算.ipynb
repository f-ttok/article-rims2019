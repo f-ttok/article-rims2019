{
 "cells": [
  {
   "cell_type": "code",
   "execution_count": 1,
   "metadata": {},
   "outputs": [
    {
     "name": "stdout",
     "output_type": "stream",
     "text": [
      "Julia Version 1.4.1\n",
      "Commit 381693d3df* (2020-04-14 17:20 UTC)\n",
      "Platform Info:\n",
      "  OS: Linux (x86_64-pc-linux-gnu)\n",
      "  CPU: Intel(R) Core(TM) i7-4770 CPU @ 3.40GHz\n",
      "  WORD_SIZE: 64\n",
      "  LIBM: libopenlibm\n",
      "  LLVM: libLLVM-8.0.1 (ORCJIT, haswell)\n",
      "Environment:\n",
      "  JULIA_HOME = /home/tate/.local/share/julia-1.4.1/bin\n"
     ]
    }
   ],
   "source": [
    "versioninfo()"
   ]
  },
  {
   "cell_type": "code",
   "execution_count": 2,
   "metadata": {},
   "outputs": [],
   "source": [
    "using LinearAlgebra\n",
    "using DelimitedFiles"
   ]
  },
  {
   "cell_type": "code",
   "execution_count": 3,
   "metadata": {},
   "outputs": [],
   "source": [
    "# d0(λ)の値を計算\n",
    "\n",
    "λ = 10.0 .^ LinRange(-16, 16, 201)\n",
    "μ = @. log(λ)^2 + 2*π^2\n",
    "d = @. asin(sqrt((μ - sqrt(μ^2 - 4*π^4)) / (2*π^2)))\n",
    "\n",
    "Data = [λ d]\n",
    "writedlm(\"data_d0lambda.txt\", Data)"
   ]
  },
  {
   "cell_type": "code",
   "execution_count": 25,
   "metadata": {},
   "outputs": [],
   "source": [
    "# ϕ(κ)の値を計算\n",
    "\n",
    "function get_lr(κ; ϵ=2.0^(-53))\n",
    "    # Step 2-3 in [Alg. 1, Tatsuoka et al., 2020]\n",
    "    λmax = sqrt(κ)\n",
    "    λmin = 1/λmax\n",
    "    norm_A_inv = λmax\n",
    "    norm_A_minus_I = max(abs(λmax-1), abs(λmin-1))\n",
    "    θ = log(λmax)\n",
    "    \n",
    "    # Step 4-7\n",
    "    ϵmax = 3 / θ * (norm_A_minus_I * norm_A_inv) / (1 + norm_A_inv)\n",
    "    if ϵ > ϵmax\n",
    "        ϵ = ϵmax / 2\n",
    "    end\n",
    "    \n",
    "    # Step 8 and 10\n",
    "    a1 = θ * ϵ / 3 / norm_A_minus_I\n",
    "    a2 = 1 / 2 / norm_A_minus_I\n",
    "    if a1 < a2\n",
    "        atanh_2a_minus_1 = (log(2a1) - log(2) - log1p(-a1)) / 2\n",
    "        l = asinh(2/π * atanh_2a_minus_1)\n",
    "    else\n",
    "        l = asinh(2/π * atanh(2*a2-1))\n",
    "    end\n",
    "    \n",
    "    # Step 9 and 11\n",
    "    δ = θ * ϵ / 3 / norm_A_minus_I / norm_A_inv\n",
    "    b1 = 1 - δ\n",
    "    b2 = 2 * norm_A_inv / (2*norm_A_inv+1)\n",
    "    if b1 > b2\n",
    "        atanh_2b_minus_1 = (log(2) + log1p(2δ) - log(2δ)) / 2\n",
    "        r = asinh(2/π * atanh_2b_minus_1)\n",
    "    else\n",
    "        r = asinh(atanh(2*b2-1))\n",
    "    end\n",
    "    \n",
    "    return l, r\n",
    "end\n",
    "\n",
    "\n",
    "function speed_de(κ)\n",
    "    λmax = sqrt(κ)\n",
    "    μ = log(λmax)^2 + 2π^2\n",
    "    d = asin(sqrt((μ - sqrt(μ^2 - 4*π^4)) / (2*π^2)))\n",
    "    l, r = get_lr(κ)\n",
    "    return 2 * π * d / (r-l)\n",
    "end\n",
    "\n",
    "\n",
    "function speed_gl(κ)\n",
    "    λmax = sqrt(κ)\n",
    "    τ = (sqrt(λmax)+1) / abs(sqrt(λmax)-1)\n",
    "    return 2 * log(τ)\n",
    "end\n",
    "\n",
    "\n",
    "κ = 10.0 .^ LinRange(0, 16, 101)[2:end]\n",
    "gl = [speed_gl(κ_i) for κ_i in κ]\n",
    "de = [speed_de(κ_i) for κ_i in κ]\n",
    "Data = [κ gl de]\n",
    "writedlm(\"data_convspeed.txt\", Data)"
   ]
  },
  {
   "cell_type": "code",
   "execution_count": 26,
   "metadata": {},
   "outputs": [
    {
     "name": "stdout",
     "output_type": "stream",
     "text": [
      "intersect_x = 2711.919364407967\n",
      "speed_de(intersect_x) = 0.5578842198050705\n",
      "speed_gl(intersect_x) = 0.5578842198050702\n"
     ]
    }
   ],
   "source": [
    "# 2分法でGLとDEの速度が同じになる点を求める\n",
    "\n",
    "function find_intersection(left, right)\n",
    "    center = 1.0\n",
    "    for _ = 1:10^6\n",
    "        center = (left + right)/2\n",
    "        f = speed_gl(center) - speed_de(center)\n",
    "        if f < 0\n",
    "            right = center\n",
    "        else\n",
    "            left = center\n",
    "        end\n",
    "    end\n",
    "    return center\n",
    "end\n",
    "\n",
    "intersect_x = find_intersection(1e+2, 1e+5)\n",
    "@show intersect_x\n",
    "@show speed_de(intersect_x)\n",
    "@show speed_gl(intersect_x);"
   ]
  }
 ],
 "metadata": {
  "kernelspec": {
   "display_name": "Julia 1.4.1",
   "language": "julia",
   "name": "julia-1.4"
  },
  "language_info": {
   "file_extension": ".jl",
   "mimetype": "application/julia",
   "name": "julia",
   "version": "1.4.1"
  }
 },
 "nbformat": 4,
 "nbformat_minor": 2
}
